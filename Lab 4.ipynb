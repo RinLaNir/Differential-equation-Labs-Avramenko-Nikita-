{
 "cells": [
  {
   "cell_type": "markdown",
   "metadata": {},
   "source": [
    "# Лабораторна робота №4\n",
    "### Диференційні рівняння\n",
    "Авраменко Нікіта, група коп'ютерна математика"
   ]
  },
  {
   "cell_type": "markdown",
   "metadata": {},
   "source": [
    "## Варіант 2\n",
    "Приклад:\n",
    "$$\n",
    "A = \n",
    " \\begin{pmatrix}\n",
    "  6 & 1 & -5 \\\\\n",
    "  3 & 2 & -3 \\\\\n",
    "  7 & 1 & -6 \\\\\n",
    " \\end{pmatrix}\\,,\n",
    " f(t) = \n",
    " \\begin{pmatrix}\n",
    "  2\\epsilon^{-2t} \\\\\n",
    "  -\\epsilon^{-2t} \\\\\n",
    "  \\epsilon^{-2t} + \\epsilon^{-t} \\\\\n",
    " \\end{pmatrix}\n",
    "$$"
   ]
  },
  {
   "cell_type": "markdown",
   "metadata": {},
   "source": [
    "Знайти загальний розв'язок відповідної однорідноїсистеми $y'= Ay$."
   ]
  },
  {
   "cell_type": "code",
   "execution_count": 1,
   "metadata": {},
   "outputs": [],
   "source": [
    "import numpy as np\n",
    "from sympy import *\n",
    "from sympy.abc import t, C\n",
    "from numpy import linalg as LA\n",
    "from sympy import symbols, IndexedBase, Idx\n",
    "from sympy.interactive import printing\n",
    "printing.init_printing(use_latex=True)"
   ]
  },
  {
   "cell_type": "code",
   "execution_count": 2,
   "metadata": {},
   "outputs": [
    {
     "name": "stdout",
     "output_type": "stream",
     "text": [
      "[-1.  1.  2.]\n",
      "[[-5.34522484e-01 -7.07106781e-01 -5.77350269e-01]\n",
      " [-2.67261242e-01  6.17789842e-16 -5.77350269e-01]\n",
      " [-8.01783726e-01 -7.07106781e-01 -5.77350269e-01]]\n"
     ]
    }
   ],
   "source": [
    "A = np.array([[6,1,-5],[3,2,-3],[7,1,-6]])\n",
    "w, v = LA.eig(A)\n",
    "print(w)\n",
    "print(v)"
   ]
  },
  {
   "cell_type": "code",
   "execution_count": 3,
   "metadata": {},
   "outputs": [
    {
     "name": "stdout",
     "output_type": "stream",
     "text": [
      "Загальний розв'язок однорідної системи y' = AY\n"
     ]
    },
    {
     "data": {
      "image/png": "[encoded data removed]",
      "text/latex": [
       "$\\displaystyle \\left[\\begin{matrix}x{\\left(t \\right)} = 2 C_{1} e^{- t} + C_{2} e^{t} + C_{3} e^{2 t}\\\\y{\\left(t \\right)} = C_{1} e^{- t} + C_{3} e^{2 t}\\\\z{\\left(t \\right)} = 3 C_{1} e^{- t} + C_{2} e^{t} + C_{3} e^{2 t}\\end{matrix}\\right]$"
      ],
      "text/plain": [
       "⎡             -t       t       2⋅t⎤\n",
       "⎢x(t) = 2⋅C₁⋅ℯ   + C₂⋅ℯ  + C₃⋅ℯ   ⎥\n",
       "⎢                                 ⎥\n",
       "⎢                -t       2⋅t     ⎥\n",
       "⎢     y(t) = C₁⋅ℯ   + C₃⋅ℯ        ⎥\n",
       "⎢                                 ⎥\n",
       "⎢             -t       t       2⋅t⎥\n",
       "⎣z(t) = 3⋅C₁⋅ℯ   + C₂⋅ℯ  + C₃⋅ℯ   ⎦"
      ]
     },
     "execution_count": 3,
     "metadata": {},
     "output_type": "execute_result"
    }
   ],
   "source": [
    "exp(5*t)\n",
    "print(f\"Загальний розв'язок однорідної системи y' = AY\")\n",
    "#C = IndexedBase('C')\n",
    "#C[1]*exp(w[0]*t)*Matrix(v[:,0])+C[2]*exp(w[1]*t)*Matrix(v[:,1])+C[3]*exp(w[2]*t)*Matrix(v[:,2])\n",
    "x, y, z = symbols('x, y, z', cls=Function)\n",
    "eq = (Eq(Derivative(x(t),t), 6*x(t) + y(t) - 5*z(t)), Eq(Derivative(y(t),t), 3*x(t) + 2*y(t) - 3*z(t)),\n",
    "     Eq(Derivative(z(t),t), 7*x(t) + y(t) - 6*z(t)))\n",
    "q = dsolve(eq)\n",
    "quat = Matrix([q[0],q[1], q[2]])\n",
    "quat"
   ]
  },
  {
   "cell_type": "markdown",
   "metadata": {},
   "source": [
    "Знайти розв'язок неоднорідної системи"
   ]
  },
  {
   "cell_type": "code",
   "execution_count": 4,
   "metadata": {},
   "outputs": [],
   "source": [
    "from sympy import Function, dsolve, Eq, Derivative, sin, cos, symbols\n",
    "from sympy.abc import x"
   ]
  },
  {
   "cell_type": "code",
   "execution_count": 5,
   "metadata": {},
   "outputs": [],
   "source": [
    "A, B, C, D, N, M = symbols('A, B, C, D, N, M')"
   ]
  },
  {
   "cell_type": "code",
   "execution_count": 6,
   "metadata": {},
   "outputs": [
    {
     "data": {
      "image/png": "[encoded data removed]",
      "text/latex": [
       "$\\displaystyle \\left\\{ A : \\frac{2}{3}, \\  B : 1, \\  C : \\frac{5}{3}\\right\\}$"
      ],
      "text/plain": [
       "{A: 2/3, B: 1, C: 5/3}"
      ]
     },
     "execution_count": 6,
     "metadata": {},
     "output_type": "execute_result"
    }
   ],
   "source": [
    "f1 = A*exp(-2*t)\n",
    "f2 = B*exp(-2*t)\n",
    "f3 = C*exp(-2*t)\n",
    "ans1 = solve([diff(f1, t) - 6*f1 - f2 + 5*f3 - 2*exp(-2*t), diff(f2, t) - 3*f1 - 2*f2 + 3*f3 + exp(-2*t), \n",
    "       diff(f3, t) - 7*f1 - f2 + 6*f3 - exp(-2*t)],A,B,C)\n",
    "ans1"
   ]
  },
  {
   "cell_type": "code",
   "execution_count": 7,
   "metadata": {},
   "outputs": [
    {
     "data": {
      "image/png": "[encoded data removed]",
      "text/latex": [
       "$\\displaystyle \\left\\{ A : N - 1, \\  B : - \\frac{D}{18} + \\frac{2 M}{3} - \\frac{N t}{3} + \\frac{N}{6} + t - \\frac{1}{6}, \\  C : - \\frac{D \\left(18 t - 7\\right)}{18} + \\frac{M}{3} + \\frac{N \\left(2 t - 1\\right)}{6} + \\frac{1}{6}\\right\\}$"
      ],
      "text/plain": [
       "⎧               D    2⋅M   N⋅t   N       1       D⋅(18⋅t - 7)   M   N⋅(2⋅t - 1\n",
       "⎨A: N - 1, B: - ── + ─── - ─── + ─ + t - ─, C: - ──────────── + ─ + ──────────\n",
       "⎩               18    3     3    6       6            18        3        6    \n",
       "\n",
       ")   1⎫\n",
       "─ + ─⎬\n",
       "    6⎭"
      ]
     },
     "execution_count": 7,
     "metadata": {},
     "output_type": "execute_result"
    }
   ],
   "source": [
    "f1 = (A*t+B)*exp(-1*t)\n",
    "f2 = (D*t+C)*exp(-1*t)\n",
    "f3 = (N*t+M)*exp(-1*t)\n",
    "ans2 = solve([diff(f1, t) - 6*f1 - f2 + 5*f3, diff(f2, t) - 3*f1 - 2*f2 + 3*f3, \n",
    "       diff(f3, t) - 7*f1 - f2 + 6*f3 - exp(-1*t)],(A,B,C,D,N,M))\n",
    "ans2"
   ]
  },
  {
   "cell_type": "code",
   "execution_count": 8,
   "metadata": {},
   "outputs": [
    {
     "data": {
      "image/png": "[encoded data removed]",
      "text/latex": [
       "$\\displaystyle \\left\\{ A : 0, \\  B : 1, \\  C : 8, \\  D : 18, \\  M : 3, \\  N : 1\\right\\}$"
      ],
      "text/plain": [
       "{A: 0, B: 1, C: 8, D: 18, M: 3, N: 1}"
      ]
     },
     "execution_count": 8,
     "metadata": {},
     "output_type": "execute_result"
    }
   ],
   "source": [
    "ans2 = solve([A - ans2[A].subs([(t,0),(N,1)]), B - ans2[B].subs([(t,0),(N,1),(D,18),(M,3)]), C - ans2[C].subs([(t,0),(N,1),(D,18),(M,3)])],(A,B,C,D,N,M))\n",
    "ans2[N] = 1\n",
    "ans2[M] = 3\n",
    "ans2[D] = 18\n",
    "ans2"
   ]
  },
  {
   "cell_type": "markdown",
   "metadata": {},
   "source": [
    "Розв'язок"
   ]
  },
  {
   "cell_type": "code",
   "execution_count": 9,
   "metadata": {},
   "outputs": [
    {
     "data": {
      "image/png": "[encoded data removed]",
      "text/latex": [
       "$\\displaystyle \\left[\\begin{matrix}2 C_{1} e^{- t} + C_{2} e^{t} + C_{3} e^{2 t} + e^{- t} + 2 e^{- 2 t}\\\\C_{1} e^{- t} + C_{3} e^{2 t} + \\left(8 t + 18\\right) e^{- t} + 3 e^{- 2 t}\\\\3 C_{1} e^{- t} + C_{2} e^{t} + C_{3} e^{2 t} + \\left(t + 3\\right) e^{- t} + 5 e^{- 2 t}\\end{matrix}\\right]$"
      ],
      "text/plain": [
       "⎡          -t       t       2⋅t    -t      -2⋅t    ⎤\n",
       "⎢    2⋅C₁⋅ℯ   + C₂⋅ℯ  + C₃⋅ℯ    + ℯ   + 2⋅ℯ        ⎥\n",
       "⎢                                                  ⎥\n",
       "⎢       -t       2⋅t               -t      -2⋅t    ⎥\n",
       "⎢   C₁⋅ℯ   + C₃⋅ℯ    + (8⋅t + 18)⋅ℯ   + 3⋅ℯ        ⎥\n",
       "⎢                                                  ⎥\n",
       "⎢      -t       t       2⋅t            -t      -2⋅t⎥\n",
       "⎣3⋅C₁⋅ℯ   + C₂⋅ℯ  + C₃⋅ℯ    + (t + 3)⋅ℯ   + 5⋅ℯ    ⎦"
      ]
     },
     "execution_count": 9,
     "metadata": {},
     "output_type": "execute_result"
    }
   ],
   "source": [
    "mtr = Matrix([[quat[0].rhs ],[quat[1].rhs ],[quat[2].rhs ]])+Matrix([[3*ans1[A]*exp(-2*t)+(ans2[A]*t+ans2[B])*exp(-1*t)],[3*ans1[B]*exp(-2*t)+(ans2[C]*t+ans2[D])*exp(-1*t)],\n",
    "        [3*ans1[C]*exp(-2*t)+(ans2[N]*t+ans2[M])*exp(-1*t)]])\n",
    "mtr"
   ]
  },
  {
   "cell_type": "markdown",
   "metadata": {},
   "source": [
    "Знайти розв'язок задачі Коші"
   ]
  },
  {
   "cell_type": "code",
   "execution_count": 10,
   "metadata": {},
   "outputs": [
    {
     "data": {
      "image/png": "[encoded data removed]",
      "text/latex": [
       "$\\displaystyle \\left\\{ C_{1} : -5, \\  C_{2} : 23, \\  C_{3} : -16\\right\\}$"
      ],
      "text/plain": [
       "{C₁: -5, C₂: 23, C₃: -16}"
      ]
     },
     "execution_count": 10,
     "metadata": {},
     "output_type": "execute_result"
    }
   ],
   "source": [
    "solve([mtr[0].subs(t,0),mtr[1].subs(t,0),mtr[2].subs(t,0)])"
   ]
  },
  {
   "cell_type": "markdown",
   "metadata": {},
   "source": [
    "### Завдання 2\n",
    "Розв'язати систему матричним методом\n",
    "\n",
    "Приклад\n",
    "$$\n",
    "A = \n",
    " \\begin{pmatrix}\n",
    "  3 & 0 \\\\\n",
    "  0 & -2\n",
    " \\end{pmatrix}\\,\n",
    "$$"
   ]
  },
  {
   "cell_type": "code",
   "execution_count": 11,
   "metadata": {},
   "outputs": [
    {
     "data": {
      "image/png": "[encoded data removed]",
      "text/latex": [
       "$\\displaystyle \\left[\\begin{matrix}3 & 0\\\\0 & -2\\end{matrix}\\right]$"
      ],
      "text/plain": [
       "⎡3  0 ⎤\n",
       "⎢     ⎥\n",
       "⎣0  -2⎦"
      ]
     },
     "execution_count": 11,
     "metadata": {},
     "output_type": "execute_result"
    }
   ],
   "source": [
    "A = Matrix([[3,0],[0,-2]])\n",
    "A"
   ]
  },
  {
   "cell_type": "markdown",
   "metadata": {},
   "source": [
    "Матриця діагональна, тому e^(At) дорівнює"
   ]
  },
  {
   "cell_type": "code",
   "execution_count": 12,
   "metadata": {},
   "outputs": [
    {
     "data": {
      "image/png": "[encoded data removed]",
      "text/latex": [
       "$\\displaystyle \\left[\\begin{matrix}e^{3} & 0\\\\0 & e^{-2}\\end{matrix}\\right]$"
      ],
      "text/plain": [
       "⎡ 3     ⎤\n",
       "⎢ℯ    0 ⎥\n",
       "⎢       ⎥\n",
       "⎢     -2⎥\n",
       "⎣0   ℯ  ⎦"
      ]
     },
     "execution_count": 12,
     "metadata": {},
     "output_type": "execute_result"
    }
   ],
   "source": [
    "#from sympy.solvers.ode.systems import matrix_exp\n",
    "#matrix_exp(A, t)\n",
    "eA = Matrix([[exp(3),0],[0,exp(-2)]])\n",
    "eA"
   ]
  },
  {
   "cell_type": "code",
   "execution_count": 13,
   "metadata": {},
   "outputs": [
    {
     "data": {
      "image/png": "[encoded data removed]",
      "text/latex": [
       "$\\displaystyle \\left[\\begin{matrix}x = e^{3} {C}_{1}\\\\y = \\frac{{C}_{2}}{e^{2}}\\end{matrix}\\right]$"
      ],
      "text/plain": [
       "⎡     3      ⎤\n",
       "⎢x = ℯ ⋅C[1] ⎥\n",
       "⎢            ⎥\n",
       "⎢     -2     ⎥\n",
       "⎣y = ℯ  ⋅C[2]⎦"
      ]
     },
     "execution_count": 13,
     "metadata": {},
     "output_type": "execute_result"
    }
   ],
   "source": [
    "C = IndexedBase('C')\n",
    "Mm = eA*Matrix([[C[1]],[C[2]]])\n",
    "Mm[0] = Eq(x,Mm[0])\n",
    "Mm[1] = Eq(y,Mm[1])\n",
    "Mm"
   ]
  },
  {
   "cell_type": "code",
   "execution_count": null,
   "metadata": {},
   "outputs": [],
   "source": []
  }
 ],
 "metadata": {
  "kernelspec": {
   "display_name": "Python 3",
   "language": "python",
   "name": "python3"
  },
  "language_info": {
   "codemirror_mode": {
    "name": "ipython",
    "version": 3
   },
   "file_extension": ".py",
   "mimetype": "text/x-python",
   "name": "python",
   "nbconvert_exporter": "python",
   "pygments_lexer": "ipython3",
   "version": "3.7.3"
  }
 },
 "nbformat": 4,
 "nbformat_minor": 2
}
